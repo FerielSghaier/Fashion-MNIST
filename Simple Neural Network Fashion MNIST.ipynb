{
 "cells": [
  {
   "cell_type": "code",
   "execution_count": 2,
   "id": "70dab897",
   "metadata": {},
   "outputs": [
    {
     "name": "stdout",
     "output_type": "stream",
     "text": [
      "WARNING:tensorflow:From C:\\Users\\BAZ INFO\\anaconda3\\Lib\\site-packages\\keras\\src\\losses.py:2976: The name tf.losses.sparse_softmax_cross_entropy is deprecated. Please use tf.compat.v1.losses.sparse_softmax_cross_entropy instead.\n",
      "\n"
     ]
    }
   ],
   "source": [
    "import matplotlib.pyplot as plt\n",
    "# Tensorflow\n",
    "import tensorflow as tf\n",
    "# Numpy and Pandas\n",
    "import numpy as np\n",
    "import pandas as pd\n",
    "# Ohter import\n",
    "import sys"
   ]
  },
  {
   "cell_type": "code",
   "execution_count": 3,
   "id": "2e05e5e7",
   "metadata": {},
   "outputs": [],
   "source": [
    "assert hasattr(tf, \"function\") "
   ]
  },
  {
   "cell_type": "markdown",
   "id": "61ae2368",
   "metadata": {},
   "source": [
    "# Load the dataset: Fashion MNIST"
   ]
  },
  {
   "cell_type": "code",
   "execution_count": 4,
   "id": "f6ca6546",
   "metadata": {},
   "outputs": [
    {
     "name": "stdout",
     "output_type": "stream",
     "text": [
      "Downloading data from https://storage.googleapis.com/tensorflow/tf-keras-datasets/train-labels-idx1-ubyte.gz\n",
      "29515/29515 [==============================] - 0s 1us/step\n",
      "Downloading data from https://storage.googleapis.com/tensorflow/tf-keras-datasets/train-images-idx3-ubyte.gz\n",
      "26421880/26421880 [==============================] - 31s 1us/step\n",
      "Downloading data from https://storage.googleapis.com/tensorflow/tf-keras-datasets/t10k-labels-idx1-ubyte.gz\n",
      "5148/5148 [==============================] - 0s 0s/step\n",
      "Downloading data from https://storage.googleapis.com/tensorflow/tf-keras-datasets/t10k-images-idx3-ubyte.gz\n",
      "4422102/4422102 [==============================] - 6s 1us/step\n",
      "(10000, 784)\n",
      "(10000,)\n"
     ]
    }
   ],
   "source": [
    "from sklearn.preprocessing import StandardScaler\n",
    "\n",
    "# Fashio MNIST\n",
    "fashion_mnist = tf.keras.datasets.fashion_mnist\n",
    "(images, targets), (images_test, targets_test) = fashion_mnist.load_data()\n",
    "\n",
    "# Get only a subpart of the dataset\n",
    "images = images[:10000]\n",
    "targets = targets [:10000]\n",
    "\n",
    "# Reshape the dataset and convert to float\n",
    "images = images.reshape(-1, 784)\n",
    "images = images.astype(float)\n",
    "images_test = images_test.reshape(-1, 784)\n",
    "images_test = images_test.astype(float)\n",
    "\n",
    "scaler = StandardScaler()\n",
    "images = scaler.fit_transform(images)\n",
    "images_test = scaler.transform(images_test)\n",
    "\n",
    "print(images.shape)\n",
    "print(targets.shape)"
   ]
  },
  {
   "cell_type": "markdown",
   "id": "cf606e87",
   "metadata": {},
   "source": [
    "# Plot one of the data"
   ]
  },
  {
   "cell_type": "code",
   "execution_count": 5,
   "id": "f4f86bd9",
   "metadata": {},
   "outputs": [
    {
     "data": {
      "image/png": "[encoded data removed]",
      "text/plain": [
       "<Figure size 640x480 with 1 Axes>"
      ]
     },
     "metadata": {},
     "output_type": "display_data"
    }
   ],
   "source": [
    "targets_names = [\"T-shirt/top\", \"Trouser\", \"Pullover\", \"Dress\", \"Coat\", \"Sandal\",\n",
    "                 \"Shirt\", \"Sneaker\", \"Bag\", \"Ankle boot\"\n",
    "]\n",
    "# Plot one image\n",
    "plt.imshow(np.reshape(images[11], (28, 28)), cmap=\"binary\")\n",
    "plt.title(targets_names[targets[11]])\n",
    "plt.show()"
   ]
  },
  {
   "cell_type": "markdown",
   "id": "3d1c0f84",
   "metadata": {},
   "source": [
    "# Create the model"
   ]
  },
  {
   "cell_type": "code",
   "execution_count": 6,
   "id": "c8436047",
   "metadata": {},
   "outputs": [
    {
     "name": "stdout",
     "output_type": "stream",
     "text": [
      "WARNING:tensorflow:From C:\\Users\\BAZ INFO\\anaconda3\\Lib\\site-packages\\keras\\src\\backend.py:873: The name tf.get_default_graph is deprecated. Please use tf.compat.v1.get_default_graph instead.\n",
      "\n",
      "1/1 [==============================] - 0s 256ms/step\n",
      "[[0.1565248  0.11496447 0.21206057 0.13014099 0.15143578 0.0473944\n",
      "  0.03480564 0.08994332 0.02797635 0.03475366]] [9]\n"
     ]
    }
   ],
   "source": [
    "# Flatten\n",
    "model = tf.keras.models.Sequential()\n",
    "\n",
    "# Add the layers\n",
    "model.add(tf.keras.layers.Dense(256, activation=\"relu\"))\n",
    "model.add(tf.keras.layers.Dense(128, activation=\"relu\"))\n",
    "model.add(tf.keras.layers.Dense(10, activation=\"softmax\"))\n",
    "\n",
    "model_output = model.predict(images[0:1])\n",
    "print(model_output, targets[0:1])"
   ]
  },
  {
   "cell_type": "markdown",
   "id": "c3fb9a7a",
   "metadata": {},
   "source": [
    "# Model Summary"
   ]
  },
  {
   "cell_type": "code",
   "execution_count": 7,
   "id": "4fbd9595",
   "metadata": {},
   "outputs": [
    {
     "name": "stdout",
     "output_type": "stream",
     "text": [
      "Model: \"sequential\"\n",
      "_________________________________________________________________\n",
      " Layer (type)                Output Shape              Param #   \n",
      "=================================================================\n",
      " dense (Dense)               (None, 256)               200960    \n",
      "                                                                 \n",
      " dense_1 (Dense)             (None, 128)               32896     \n",
      "                                                                 \n",
      " dense_2 (Dense)             (None, 10)                1290      \n",
      "                                                                 \n",
      "=================================================================\n",
      "Total params: 235146 (918.54 KB)\n",
      "Trainable params: 235146 (918.54 KB)\n",
      "Non-trainable params: 0 (0.00 Byte)\n",
      "_________________________________________________________________\n"
     ]
    }
   ],
   "source": [
    "model.summary()"
   ]
  },
  {
   "cell_type": "markdown",
   "id": "9f32d201",
   "metadata": {},
   "source": [
    "# Compile the model"
   ]
  },
  {
   "cell_type": "code",
   "execution_count": 8,
   "id": "34ee2898",
   "metadata": {},
   "outputs": [
    {
     "name": "stdout",
     "output_type": "stream",
     "text": [
      "WARNING:tensorflow:From C:\\Users\\BAZ INFO\\anaconda3\\Lib\\site-packages\\keras\\src\\optimizers\\__init__.py:309: The name tf.train.Optimizer is deprecated. Please use tf.compat.v1.train.Optimizer instead.\n",
      "\n"
     ]
    }
   ],
   "source": [
    "model.compile(\n",
    "    loss=\"sparse_categorical_crossentropy\",\n",
    "    optimizer=\"sgd\",\n",
    "    metrics=[\"accuracy\"]\n",
    ")"
   ]
  },
  {
   "cell_type": "markdown",
   "id": "6d690461",
   "metadata": {},
   "source": [
    "# Train the model"
   ]
  },
  {
   "cell_type": "code",
   "execution_count": 9,
   "id": "35304076",
   "metadata": {},
   "outputs": [
    {
     "name": "stdout",
     "output_type": "stream",
     "text": [
      "Epoch 1/10\n",
      "WARNING:tensorflow:From C:\\Users\\BAZ INFO\\anaconda3\\Lib\\site-packages\\keras\\src\\utils\\tf_utils.py:492: The name tf.ragged.RaggedTensorValue is deprecated. Please use tf.compat.v1.ragged.RaggedTensorValue instead.\n",
      "\n",
      "WARNING:tensorflow:From C:\\Users\\BAZ INFO\\anaconda3\\Lib\\site-packages\\keras\\src\\engine\\base_layer_utils.py:384: The name tf.executing_eagerly_outside_functions is deprecated. Please use tf.compat.v1.executing_eagerly_outside_functions instead.\n",
      "\n",
      "250/250 [==============================] - 1s 4ms/step - loss: 0.8824 - accuracy: 0.7144 - val_loss: 0.6185 - val_accuracy: 0.7865\n",
      "Epoch 2/10\n",
      "250/250 [==============================] - 1s 3ms/step - loss: 0.5270 - accuracy: 0.8144 - val_loss: 0.5258 - val_accuracy: 0.8100\n",
      "Epoch 3/10\n",
      "250/250 [==============================] - 1s 3ms/step - loss: 0.4438 - accuracy: 0.8457 - val_loss: 0.4858 - val_accuracy: 0.8270\n",
      "Epoch 4/10\n",
      "250/250 [==============================] - 1s 3ms/step - loss: 0.3963 - accuracy: 0.8610 - val_loss: 0.4525 - val_accuracy: 0.8435\n",
      "Epoch 5/10\n",
      "250/250 [==============================] - 1s 3ms/step - loss: 0.3624 - accuracy: 0.8734 - val_loss: 0.4405 - val_accuracy: 0.8485\n",
      "Epoch 6/10\n",
      "250/250 [==============================] - 1s 2ms/step - loss: 0.3349 - accuracy: 0.8844 - val_loss: 0.4298 - val_accuracy: 0.8510\n",
      "Epoch 7/10\n",
      "250/250 [==============================] - 1s 3ms/step - loss: 0.3124 - accuracy: 0.8917 - val_loss: 0.4277 - val_accuracy: 0.8500\n",
      "Epoch 8/10\n",
      "250/250 [==============================] - 1s 4ms/step - loss: 0.2936 - accuracy: 0.8984 - val_loss: 0.4087 - val_accuracy: 0.8545\n",
      "Epoch 9/10\n",
      "250/250 [==============================] - 1s 3ms/step - loss: 0.2759 - accuracy: 0.9054 - val_loss: 0.4168 - val_accuracy: 0.8565\n",
      "Epoch 10/10\n",
      "250/250 [==============================] - 1s 3ms/step - loss: 0.2581 - accuracy: 0.9130 - val_loss: 0.4117 - val_accuracy: 0.8535\n"
     ]
    }
   ],
   "source": [
    "history = model.fit(images, targets, epochs=10, validation_split=0.2)"
   ]
  },
  {
   "cell_type": "code",
   "execution_count": null,
   "id": "cc87162c",
   "metadata": {},
   "outputs": [],
   "source": []
  }
 ],
 "metadata": {
  "kernelspec": {
   "display_name": "Python 3 (ipykernel)",
   "language": "python",
   "name": "python3"
  },
  "language_info": {
   "codemirror_mode": {
    "name": "ipython",
    "version": 3
   },
   "file_extension": ".py",
   "mimetype": "text/x-python",
   "name": "python",
   "nbconvert_exporter": "python",
   "pygments_lexer": "ipython3",
   "version": "3.11.5"
  }
 },
 "nbformat": 4,
 "nbformat_minor": 5
}
